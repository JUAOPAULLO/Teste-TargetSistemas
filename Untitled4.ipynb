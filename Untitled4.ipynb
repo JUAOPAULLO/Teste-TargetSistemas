{
  "nbformat": 4,
  "nbformat_minor": 0,
  "metadata": {
    "colab": {
      "provenance": [],
      "authorship_tag": "ABX9TyNfKD7hN3px7FHPw9gobRql"
    },
    "kernelspec": {
      "name": "python3",
      "display_name": "Python 3"
    },
    "language_info": {
      "name": "python"
    }
  },
  "cells": [
    {
      "cell_type": "code",
      "execution_count": 16,
      "metadata": {
        "id": "FQFpFjVrEgt6",
        "colab": {
          "base_uri": "https://localhost:8080/"
        },
        "outputId": "06215c20-fb65-4ffe-863f-8a0c9f87e17d"
      },
      "outputs": [
        {
          "output_type": "stream",
          "name": "stdout",
          "text": [
            "A letra que apareceu mais vezes foi \"a\" que apareceu 4x\n"
          ]
        }
      ],
      "source": [
        "frase = 'aaaAoo'\n",
        "frase = frase.lower()\n",
        "\n",
        "i = 0\n",
        "qtd_apareceu_mais_vezes = 0\n",
        "letra_apareceu_mais_vezes = ''\n",
        "\n",
        "while i < len(frase):\n",
        "    letra_atual = frase[i]\n",
        "\n",
        "    if letra_atual == ' ':\n",
        "        i += 1\n",
        "        continue\n",
        "\n",
        "    qtd_apareceu_mais_vezes_atual = frase.count(letra_atual)\n",
        "\n",
        "    if qtd_apareceu_mais_vezes < qtd_apareceu_mais_vezes_atual:\n",
        "        qtd_apareceu_mais_vezes = qtd_apareceu_mais_vezes_atual\n",
        "        letra_apareceu_mais_vezes = letra_atual\n",
        "\n",
        "    i += 1\n",
        "\n",
        "print(\n",
        "    'A letra que apareceu mais vezes foi '\n",
        "    f'\"{letra_apareceu_mais_vezes}\" que apareceu '\n",
        "    f'{qtd_apareceu_mais_vezes}x'\n",
        ")"
      ]
    },
    {
      "cell_type": "code",
      "source": [
        "sequencia = input('Digite um numero que esteja na sequencia de Fibonacci ')\n",
        "\n",
        "fibonacci = [1, 1]\n",
        "\n",
        "while fibonacci[-1] < 1000:\n",
        "    proximo_numero = fibonacci[-1] + fibonacci[-2]\n",
        "    fibonacci.append(proximo_numero)\n",
        "    if proximo_numero == int(sequencia):\n",
        "        print('O numero pertence a sequencia de Fibonacci')\n",
        "        break\n",
        "else:\n",
        "    print('O numero nao pertence a sequencia de Fibonacci')\n",
        "\n",
        "print(fibonacci)"
      ],
      "metadata": {
        "colab": {
          "base_uri": "https://localhost:8080/"
        },
        "id": "mEo9ISslHgx4",
        "outputId": "fbf1f8d7-8dab-486b-ed43-9a7eeb0f6192"
      },
      "execution_count": 21,
      "outputs": [
        {
          "output_type": "stream",
          "name": "stdout",
          "text": [
            "Digite um numero que esteja na sequencia de Fibonacci 1\n",
            "O numero nao pertence a sequencia de Fibonacci\n",
            "[1, 1, 2, 3, 5, 8, 13, 21, 34, 55, 89, 144, 233, 377, 610, 987, 1597]\n"
          ]
        }
      ]
    }
  ]
}