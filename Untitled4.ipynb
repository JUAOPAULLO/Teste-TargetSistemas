{
  "nbformat": 4,
  "nbformat_minor": 0,
  "metadata": {
    "colab": {
      "provenance": [],
      "authorship_tag": "ABX9TyNReHG50r1gmBr7LWGLZH3J",
      "include_colab_link": true
    },
    "kernelspec": {
      "name": "python3",
      "display_name": "Python 3"
    },
    "language_info": {
      "name": "python"
    }
  },
  "cells": [
    {
      "cell_type": "markdown",
      "metadata": {
        "id": "view-in-github",
        "colab_type": "text"
      },
      "source": [
        "<a href=\"https://colab.research.google.com/github/JUAOPAULLO/Teste-TargetSistemas/blob/main/Untitled4.ipynb\" target=\"_parent\"><img src=\"https://colab.research.google.com/assets/colab-badge.svg\" alt=\"Open In Colab\"/></a>"
      ]
    },
    {
      "cell_type": "code",
      "execution_count": null,
      "metadata": {
        "id": "FQFpFjVrEgt6"
      },
      "outputs": [],
      "source": [
        "frase = 'aaAoo'\n",
        "\n",
        "i = 0\n",
        "qtd_apareceu_mais_vezes = 0\n",
        "letra_apareceu_mais_vezes = ''\n",
        "\n",
        "while i < len(frase):\n",
        "    letra_atual = frase[i]\n",
        "\n",
        "    if letra_atual == ' ':\n",
        "        i += 1\n",
        "        continue\n",
        "\n",
        "    qtd_apareceu_mais_vezes_atual = frase.count(letra_atual)\n",
        "\n",
        "    if qtd_apareceu_mais_vezes < qtd_apareceu_mais_vezes_atual:\n",
        "        qtd_apareceu_mais_vezes = qtd_apareceu_mais_vezes_atual\n",
        "        letra_apareceu_mais_vezes = letra_atual\n",
        "\n",
        "    i += 1\n",
        "\n",
        "print(\n",
        "    'A letra que apareceu mais vezes foi '\n",
        "    f'\"{letra_apareceu_mais_vezes}\" que apareceu '\n",
        "    f'{qtd_apareceu_mais_vezes}x'\n",
        ")"
      ]
    }
  ]
}